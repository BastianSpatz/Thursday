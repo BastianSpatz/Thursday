{
 "cells": [
  {
   "cell_type": "code",
   "execution_count": 1,
   "id": "273e9a00",
   "metadata": {},
   "outputs": [],
   "source": [
    "import torch\n",
    "from torchsummary import summary\n",
    "import torch.nn as nn\n",
    "from torch.nn import functional as F\n",
    "import pandas as pd\n",
    "from dataset import Dataset, collate_fn_padd\n",
    "from torch.utils.data import DataLoader\n",
    "%load_ext autoreload\n",
    "%autoreload 2"
   ]
  },
  {
   "cell_type": "code",
   "execution_count": 2,
   "id": "4745871e",
   "metadata": {},
   "outputs": [],
   "source": [
    "def train_dataloader():\n",
    "    train_dataset = Dataset(json_path=\"data/single_batch.json\")\n",
    "    return DataLoader(dataset=train_dataset,\n",
    "                        num_workers=0,\n",
    "                        batch_size=1,\n",
    "                        collate_fn=collate_fn_padd)"
   ]
  },
  {
   "cell_type": "code",
   "execution_count": 3,
   "id": "c05f14ca",
   "metadata": {},
   "outputs": [],
   "source": [
    "class Model(nn.Module):\n",
    "    def __init__(self):\n",
    "        super(Model, self).__init__() \n",
    "        self.conv = nn.Sequential(\n",
    "                    nn.Conv2d(1, 32, kernel_size=(41, 11), stride=(2, 2), padding=(20, 5)),\n",
    "                    nn.BatchNorm2d(32),\n",
    "                    nn.Hardtanh(0, 20, inplace=True),\n",
    "                    nn.Conv2d(32, 32, kernel_size=(21, 11), stride=(2, 1), padding=(10, 5)),\n",
    "                    nn.BatchNorm2d(32),\n",
    "                    nn.Hardtanh(0, 20, inplace=True)\n",
    "                )\n",
    "        self.lstm = nn.LSTM(\n",
    "\t\t\t\t\t\tinput_size=1024,\n",
    "\t\t\t\t\t\thidden_size=800,\n",
    "\t\t\t\t\t\tnum_layers=1,\n",
    "\t\t\t\t\t\tbatch_first=True,\n",
    "\t\t\t\t\t\tbidirectional=True)\n",
    "        self.fc = nn.Sequential(\n",
    "            nn.Linear(800, 29, bias=False)\n",
    "        )\n",
    "    def forward(self, x):\n",
    "        x = self.conv(x)\n",
    "        sizes = x.size()\n",
    "        x = x.view(sizes[0], sizes[1] * sizes[2], sizes[3])  # Collapse feature dimension\n",
    "        x = x.transpose(1, 2)  # TxNxH\n",
    "        x, _ = self.lstm(x)\n",
    "        x = x.view(x.size(0), x.size(1), 2, -1).sum(2).view(x.size(0), x.size(1), -1)  # (TxNxH*2) -> (TxNxH) by sum\n",
    "        x = self.fc(x)\n",
    "        return x"
   ]
  },
  {
   "cell_type": "code",
   "execution_count": 4,
   "id": "42104e18",
   "metadata": {},
   "outputs": [
    {
     "name": "stdout",
     "output_type": "stream",
     "text": [
      "loading json data from file  data/single_batch.json\n",
      "epoch 0 loss: 6.788671493530273 \n",
      "epoch 100 loss: 0.17408563196659088 \n",
      "epoch 200 loss: 0.006847347132861614 \n",
      "epoch 300 loss: 0.0027056897524744272 \n"
     ]
    },
    {
     "ename": "KeyboardInterrupt",
     "evalue": "",
     "output_type": "error",
     "traceback": [
      "\u001b[1;31m---------------------------------------------------------------------------\u001b[0m",
      "\u001b[1;31mKeyboardInterrupt\u001b[0m                         Traceback (most recent call last)",
      "\u001b[1;32mc:\\Users\\Bastian\\Documents\\Python\\Thursday\\thursday\\Testing.ipynb Zelle 4\u001b[0m in \u001b[0;36m<cell line: 8>\u001b[1;34m()\u001b[0m\n\u001b[0;32m     <a href='vscode-notebook-cell:/c%3A/Users/Bastian/Documents/Python/Thursday/thursday/Testing.ipynb#W3sZmlsZQ%3D%3D?line=19'>20</a>\u001b[0m output \u001b[39m=\u001b[39m output\u001b[39m.\u001b[39mtranspose(\u001b[39m0\u001b[39m, \u001b[39m1\u001b[39m) \u001b[39m# (time, batch, n_class)\u001b[39;00m\n\u001b[0;32m     <a href='vscode-notebook-cell:/c%3A/Users/Bastian/Documents/Python/Thursday/thursday/Testing.ipynb#W3sZmlsZQ%3D%3D?line=20'>21</a>\u001b[0m \u001b[39m#print(output.shape)\u001b[39;00m\n\u001b[1;32m---> <a href='vscode-notebook-cell:/c%3A/Users/Bastian/Documents/Python/Thursday/thursday/Testing.ipynb#W3sZmlsZQ%3D%3D?line=21'>22</a>\u001b[0m loss \u001b[39m=\u001b[39m criterion(output, labels, spec_len, label_len)\n\u001b[0;32m     <a href='vscode-notebook-cell:/c%3A/Users/Bastian/Documents/Python/Thursday/thursday/Testing.ipynb#W3sZmlsZQ%3D%3D?line=22'>23</a>\u001b[0m loss\u001b[39m.\u001b[39mbackward()\n\u001b[0;32m     <a href='vscode-notebook-cell:/c%3A/Users/Bastian/Documents/Python/Thursday/thursday/Testing.ipynb#W3sZmlsZQ%3D%3D?line=23'>24</a>\u001b[0m optimizer\u001b[39m.\u001b[39mstep()\n",
      "File \u001b[1;32mc:\\Users\\Bastian\\AppData\\Local\\Programs\\Python\\Python310\\lib\\site-packages\\torch\\nn\\modules\\module.py:1110\u001b[0m, in \u001b[0;36mModule._call_impl\u001b[1;34m(self, *input, **kwargs)\u001b[0m\n\u001b[0;32m   1106\u001b[0m \u001b[39m# If we don't have any hooks, we want to skip the rest of the logic in\u001b[39;00m\n\u001b[0;32m   1107\u001b[0m \u001b[39m# this function, and just call forward.\u001b[39;00m\n\u001b[0;32m   1108\u001b[0m \u001b[39mif\u001b[39;00m \u001b[39mnot\u001b[39;00m (\u001b[39mself\u001b[39m\u001b[39m.\u001b[39m_backward_hooks \u001b[39mor\u001b[39;00m \u001b[39mself\u001b[39m\u001b[39m.\u001b[39m_forward_hooks \u001b[39mor\u001b[39;00m \u001b[39mself\u001b[39m\u001b[39m.\u001b[39m_forward_pre_hooks \u001b[39mor\u001b[39;00m _global_backward_hooks\n\u001b[0;32m   1109\u001b[0m         \u001b[39mor\u001b[39;00m _global_forward_hooks \u001b[39mor\u001b[39;00m _global_forward_pre_hooks):\n\u001b[1;32m-> 1110\u001b[0m     \u001b[39mreturn\u001b[39;00m forward_call(\u001b[39m*\u001b[39m\u001b[39minput\u001b[39m, \u001b[39m*\u001b[39m\u001b[39m*\u001b[39mkwargs)\n\u001b[0;32m   1111\u001b[0m \u001b[39m# Do not call functions when jit is used\u001b[39;00m\n\u001b[0;32m   1112\u001b[0m full_backward_hooks, non_full_backward_hooks \u001b[39m=\u001b[39m [], []\n",
      "File \u001b[1;32mc:\\Users\\Bastian\\AppData\\Local\\Programs\\Python\\Python310\\lib\\site-packages\\torch\\nn\\modules\\loss.py:1743\u001b[0m, in \u001b[0;36mCTCLoss.forward\u001b[1;34m(self, log_probs, targets, input_lengths, target_lengths)\u001b[0m\n\u001b[0;32m   1742\u001b[0m \u001b[39mdef\u001b[39;00m \u001b[39mforward\u001b[39m(\u001b[39mself\u001b[39m, log_probs: Tensor, targets: Tensor, input_lengths: Tensor, target_lengths: Tensor) \u001b[39m-\u001b[39m\u001b[39m>\u001b[39m Tensor:\n\u001b[1;32m-> 1743\u001b[0m     \u001b[39mreturn\u001b[39;00m F\u001b[39m.\u001b[39;49mctc_loss(log_probs, targets, input_lengths, target_lengths, \u001b[39mself\u001b[39;49m\u001b[39m.\u001b[39;49mblank, \u001b[39mself\u001b[39;49m\u001b[39m.\u001b[39;49mreduction,\n\u001b[0;32m   1744\u001b[0m                       \u001b[39mself\u001b[39;49m\u001b[39m.\u001b[39;49mzero_infinity)\n",
      "File \u001b[1;32mc:\\Users\\Bastian\\AppData\\Local\\Programs\\Python\\Python310\\lib\\site-packages\\torch\\nn\\functional.py:2599\u001b[0m, in \u001b[0;36mctc_loss\u001b[1;34m(log_probs, targets, input_lengths, target_lengths, blank, reduction, zero_infinity)\u001b[0m\n\u001b[0;32m   2592\u001b[0m \u001b[39mif\u001b[39;00m has_torch_function_variadic(log_probs, targets, input_lengths, target_lengths):\n\u001b[0;32m   2593\u001b[0m     \u001b[39mreturn\u001b[39;00m handle_torch_function(\n\u001b[0;32m   2594\u001b[0m         ctc_loss,\n\u001b[0;32m   2595\u001b[0m         (log_probs, targets, input_lengths, target_lengths),\n\u001b[0;32m   2596\u001b[0m         log_probs, targets, input_lengths, target_lengths,\n\u001b[0;32m   2597\u001b[0m         blank\u001b[39m=\u001b[39mblank, reduction\u001b[39m=\u001b[39mreduction, zero_infinity\u001b[39m=\u001b[39mzero_infinity\n\u001b[0;32m   2598\u001b[0m     )\n\u001b[1;32m-> 2599\u001b[0m \u001b[39mreturn\u001b[39;00m torch\u001b[39m.\u001b[39;49mctc_loss(\n\u001b[0;32m   2600\u001b[0m     log_probs, targets, input_lengths, target_lengths, blank, _Reduction\u001b[39m.\u001b[39;49mget_enum(reduction), zero_infinity\n\u001b[0;32m   2601\u001b[0m )\n",
      "\u001b[1;31mKeyboardInterrupt\u001b[0m: "
     ]
    }
   ],
   "source": [
    "loader = train_dataloader()\n",
    "model = Model()\n",
    "optimizer = torch.optim.Adam(model.parameters(), lr=1e-4)\n",
    "criterion = nn.CTCLoss(blank=28, zero_infinity=True)\n",
    "final = 0.\n",
    "model.train()\n",
    "model.cuda()\n",
    "for epoch in range(1000):\n",
    "    for idx, batch in enumerate(loader):\n",
    "        optimizer.zero_grad()\n",
    "        spectrogram, labels, spec_len, label_len = batch\n",
    "        spectrogram= spectrogram.cuda()\n",
    "        labels = labels.cuda()\n",
    "        # spec_len = spec_len.to(\"cuda\")\n",
    "        # label_len = label_len.to(\"cuda\")\n",
    "        #input_sizes = torch.mul(spec_len[0], int(spectrogram.size(3)))\n",
    "        #print(input_sizes)\n",
    "        output = model(spectrogram)\n",
    "        output = F.log_softmax(output, dim=-1)\n",
    "        output = output.transpose(0, 1) # (time, batch, n_class)\n",
    "        #print(output.shape)\n",
    "        loss = criterion(output, labels, spec_len, label_len)\n",
    "        loss.backward()\n",
    "        optimizer.step()\n",
    "        final += loss.detach()\n",
    "        if epoch % 100 == 0:\n",
    "            print(\"epoch {} loss: {} \".format(epoch, loss.detach()))\n",
    "print(final/1000)"
   ]
  },
  {
   "cell_type": "code",
   "execution_count": 21,
   "id": "1e0a38bb",
   "metadata": {},
   "outputs": [
    {
     "name": "stdout",
     "output_type": "stream",
     "text": [
      "i could hear a man crying out in pain in the dentists office\n",
      "I could hear a man crying out in pain in the dentist's office.\n"
     ]
    }
   ],
   "source": [
    "from dataset import MelSpectrogram, TextProcess\n",
    "from train import SpeechModule\n",
    "import torch\n",
    "import torchaudio\n",
    "from torch.nn import functional as F\n",
    "from configs.train_config import SpectConfig\n",
    "\n",
    "class PredictorModule():\n",
    "\tdef __init__(self, model=None):\n",
    "\t\tself.model = model#SpeechModule.load_from_checkpoint(ckpt_path, num_cnn_layers=2, num_rnn_layers=1, rnn_dim=1024, num_classes=29, n_feats=128)\n",
    "\t\tself.text_process = TextProcess()\n",
    "\t\tself.audio_transform = MelSpectrogram(audio_conf=SpectConfig)\n",
    "\n",
    "\tdef decode_greedy(self, output, blank_label=28, collapse_repeated=True):\n",
    "\t\targ_maxes = torch.argmax(output, dim=2).squeeze(1)\n",
    "\t\tdecode = []\n",
    "\t\tfor i, index in enumerate(arg_maxes):\n",
    "\t\t\tif index != blank_label:\n",
    "\t\t\t\tif collapse_repeated and i != 0 and index == arg_maxes[i -1]:\n",
    "\t\t\t\t\tcontinue\n",
    "\t\t\t\tdecode.append(index.item())\n",
    "\t\treturn decode\n",
    "\n",
    "\n",
    "\tdef predict(self, file_path):\n",
    "\t\tself.model.eval()\n",
    "\t\twaveform, _ = torchaudio.load(file_path)\n",
    "\t\tspectrogram = self.audio_transform(waveform) # (channel, feature, time)\n",
    "\t\toutput = self.model(spectrogram.unsqueeze(0))\n",
    "\t\toutput = F.log_softmax(output, dim=2)\n",
    "\t\toutput = output.transpose(0, 1).detach()\n",
    "\t\tres = self.decode_greedy(output)\n",
    "\t\treturn self.text_process.int_to_text(res)\n",
    "\n",
    "if __name__ == '__main__':\n",
    "\tpredictor = PredictorModule(model)\n",
    "\tprint(predictor.predict(\"data/wav_clips/de1323d4adbeb3df830bb4ac10e84b0407f28dcfeea1786d34ba36b0bd84f6333dc4c519238cb5b48459df722a6ff0cd650a19ed63687a3a0c0c7b685ee9c2c1.wav\"))\n",
    "\tprint(\"I could hear a man crying out in pain in the dentist's office.\")"
   ]
  }
 ],
 "metadata": {
  "kernelspec": {
   "display_name": "Python 3.10.2 64-bit",
   "language": "python",
   "name": "python3"
  },
  "language_info": {
   "codemirror_mode": {
    "name": "ipython",
    "version": 3
   },
   "file_extension": ".py",
   "mimetype": "text/x-python",
   "name": "python",
   "nbconvert_exporter": "python",
   "pygments_lexer": "ipython3",
   "version": "3.10.2"
  },
  "vscode": {
   "interpreter": {
    "hash": "7ba41da815aa047041a42bb235514dd275a168b3f2f58893abf50244d8fb0ae4"
   }
  }
 },
 "nbformat": 4,
 "nbformat_minor": 5
}
